{
 "cells": [
  {
   "cell_type": "code",
   "execution_count": 8,
   "id": "a34c42ee-557e-46c4-a0fb-ae943ff01988",
   "metadata": {},
   "outputs": [
    {
     "name": "stdout",
     "output_type": "stream",
     "text": [
      "2024-12-27 14:27:26.076285: I external/local_xla/xla/tsl/cuda/cudart_stub.cc:32] Could not find cuda drivers on your machine, GPU will not be used.\n",
      "2024-12-27 14:27:26.081781: I external/local_xla/xla/tsl/cuda/cudart_stub.cc:32] Could not find cuda drivers on your machine, GPU will not be used.\n",
      "2024-12-27 14:27:26.096168: E external/local_xla/xla/stream_executor/cuda/cuda_fft.cc:477] Unable to register cuFFT factory: Attempting to register factory for plugin cuFFT when one has already been registered\n",
      "WARNING: All log messages before absl::InitializeLog() is called are written to STDERR\n",
      "E0000 00:00:1735327646.118672  342855 cuda_dnn.cc:8310] Unable to register cuDNN factory: Attempting to register factory for plugin cuDNN when one has already been registered\n",
      "E0000 00:00:1735327646.125532  342855 cuda_blas.cc:1418] Unable to register cuBLAS factory: Attempting to register factory for plugin cuBLAS when one has already been registered\n",
      "2024-12-27 14:27:26.149600: I tensorflow/core/platform/cpu_feature_guard.cc:210] This TensorFlow binary is optimized to use available CPU instructions in performance-critical operations.\n",
      "To enable the following instructions: AVX2 FMA, in other operations, rebuild TensorFlow with the appropriate compiler flags.\n",
      "====================  Test in progress  ===================\n",
      "====================  Threshhold  ===================\n",
      "\n",
      "Threshold : 0.9990965127944946\n",
      "==========================================================\n",
      "====================  MODEL DETECTION  ===================\n",
      "Anomaly detected starting at index:\n",
      " 29736, 34450, 75285\n",
      "Total number of indices: 698880\n",
      "====================  FINAL METRICS  ===================\n",
      "Accuracy : 0.9952, Precision : 0.8972, Recall : 1.0000, F-score : 0.9458 \n",
      "Extracting random segment from index 453855 to 454055\n",
      "Extracting random segment from index 74799 to 74999\n",
      "Plot saved to anomaly_scores_plot_random_segment200.png\n",
      "Figure(1200x600)\n",
      "\u001b[0m"
     ]
    }
   ],
   "source": [
    "!python main.py --anormly_ratio 0.5 --num_epochs 3   --batch_size 256  --mode test    --dataset SMD   --data_path SMD     --input_c 38      --output_c 38   --loss_fuc MSE   --win_size 105  --patch_size 57 "
   ]
  },
  {
   "cell_type": "code",
   "execution_count": null,
   "id": "2e8f1591-0d26-4472-bbbb-edd84030e0da",
   "metadata": {},
   "outputs": [],
   "source": []
  }
 ],
 "metadata": {
  "kernelspec": {
   "display_name": "p310",
   "language": "python",
   "name": "p310"
  },
  "language_info": {
   "codemirror_mode": {
    "name": "ipython",
    "version": 3
   },
   "file_extension": ".py",
   "mimetype": "text/x-python",
   "name": "python",
   "nbconvert_exporter": "python",
   "pygments_lexer": "ipython3",
   "version": "3.10.15"
  }
 },
 "nbformat": 4,
 "nbformat_minor": 5
}
