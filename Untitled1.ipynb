{
 "cells": [
  {
   "cell_type": "code",
   "execution_count": 1,
   "id": "9f431fa8-4768-42ad-a972-03d6dbf42d49",
   "metadata": {},
   "outputs": [
    {
     "name": "stdout",
     "output_type": "stream",
     "text": [
      "Python 3.12.7\n"
     ]
    }
   ],
   "source": [
    "!python --version"
   ]
  },
  {
   "cell_type": "code",
   "execution_count": 2,
   "id": "acf3cb98-ed55-48ec-83b3-d751be66e75a",
   "metadata": {},
   "outputs": [
    {
     "name": "stdout",
     "output_type": "stream",
     "text": [
      "# conda environments:\n",
      "#\n",
      "base                  *  /users/mosafer/anaconda3\n",
      "my_env                   /users/mosafer/anaconda3/envs/my_env\n",
      "p310                     /users/mosafer/anaconda3/envs/p310\n",
      "\n"
     ]
    }
   ],
   "source": [
    "!conda env list\n"
   ]
  },
  {
   "cell_type": "code",
   "execution_count": 3,
   "id": "19f08e6d-44cf-46e3-906b-638651133c82",
   "metadata": {},
   "outputs": [
    {
     "name": "stdout",
     "output_type": "stream",
     "text": [
      "\n",
      "CondaError: Run 'conda init' before 'conda activate'\n",
      "\n"
     ]
    }
   ],
   "source": [
    "!conda activate p310"
   ]
  },
  {
   "cell_type": "code",
   "execution_count": 4,
   "id": "596b19b3-5776-417a-a3ba-f3ed2b7d882e",
   "metadata": {},
   "outputs": [
    {
     "name": "stdout",
     "output_type": "stream",
     "text": [
      "no change     /users/mosafer/anaconda3/condabin/conda\n",
      "no change     /users/mosafer/anaconda3/bin/conda\n",
      "no change     /users/mosafer/anaconda3/bin/conda-env\n",
      "no change     /users/mosafer/anaconda3/bin/activate\n",
      "no change     /users/mosafer/anaconda3/bin/deactivate\n",
      "no change     /users/mosafer/anaconda3/etc/profile.d/conda.sh\n",
      "no change     /users/mosafer/anaconda3/etc/fish/conf.d/conda.fish\n",
      "no change     /users/mosafer/anaconda3/shell/condabin/Conda.psm1\n",
      "no change     /users/mosafer/anaconda3/shell/condabin/conda-hook.ps1\n",
      "no change     /users/mosafer/anaconda3/lib/python3.12/site-packages/xontrib/conda.xsh\n",
      "no change     /users/mosafer/anaconda3/etc/profile.d/conda.csh\n",
      "no change     /users/mosafer/.bashrc\n",
      "No action taken.\n"
     ]
    }
   ],
   "source": [
    "!conda init\n"
   ]
  },
  {
   "cell_type": "code",
   "execution_count": 5,
   "id": "a8c74233-4ff7-4fcf-a19a-6f686451e7ba",
   "metadata": {},
   "outputs": [
    {
     "name": "stdout",
     "output_type": "stream",
     "text": [
      "/usr/bin/python   /usr/bin/python3.10\t      /usr/bin/python3-config\n",
      "/usr/bin/python3  /usr/bin/python3.10-config\n"
     ]
    }
   ],
   "source": [
    "!ls /usr/bin/python*"
   ]
  },
  {
   "cell_type": "code",
   "execution_count": 7,
   "id": "a5b81754-e668-43a6-a858-9b3fa2d99552",
   "metadata": {},
   "outputs": [
    {
     "name": "stdout",
     "output_type": "stream",
     "text": [
      "The virtual environment was not created successfully because ensurepip is not\n",
      "available.  On Debian/Ubuntu systems, you need to install the python3-venv\n",
      "package using the following command.\n",
      "\n",
      "    apt install python3.10-venv\n",
      "\n",
      "You may need to use sudo with that command.  After installing the python3-venv\n",
      "package, recreate your virtual environment.\n",
      "\n",
      "Failing command: /users/mosafer/transformer/p310/bin/python3.10\n",
      "\n"
     ]
    }
   ],
   "source": [
    "!/usr/bin/python3.10 -m venv p310"
   ]
  },
  {
   "cell_type": "code",
   "execution_count": null,
   "id": "35372ff9-e224-4430-9541-e578a3646f47",
   "metadata": {},
   "outputs": [],
   "source": []
  }
 ],
 "metadata": {
  "kernelspec": {
   "display_name": "p310",
   "language": "python",
   "name": "p310"
  },
  "language_info": {
   "codemirror_mode": {
    "name": "ipython",
    "version": 3
   },
   "file_extension": ".py",
   "mimetype": "text/x-python",
   "name": "python",
   "nbconvert_exporter": "python",
   "pygments_lexer": "ipython3",
   "version": "3.10.15"
  }
 },
 "nbformat": 4,
 "nbformat_minor": 5
}
